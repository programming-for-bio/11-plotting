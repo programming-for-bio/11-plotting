{
 "cells": [
  {
   "cell_type": "markdown",
   "metadata": {},
   "source": [
    "### Code Review For Juliazeh\n"
   ]
  },
  {
   "cell_type": "markdown",
   "metadata": {},
   "source": [
    "#### Problem 1\n",
    "No, this is not useful because we can already easily determine the y values of all points by referencing the y axis; using marker size is redundant. Also it also could be misleading when we want to know the distribution of all points: larger points occupying more space would seem like being distributed very compactly, which may not be the case. Juliazeh created the plot as instructed and did the plot in similar methods as I did. But I created a canvas of specified size before I made the plot, while Juliazeh directly made the plot and specified the size within the plot."
   ]
  },
  {
   "cell_type": "markdown",
   "metadata": {},
   "source": [
    "#### Problem 2\n",
    "For example, for a map that tells us each city with specific location and population, there needs to be 4 values: x & y to specify longitude and latitude, color to specify altitude, and the size of each dot (representing each city) to specify the magnitude of population."
   ]
  },
  {
   "cell_type": "markdown",
   "metadata": {},
   "source": [
    "#### Problem 3\n",
    "Yes, Juliazeh added tick marks as described. She did it differently: I used `toyplot.locator.Uniform(count=7, format=\"{:.0f}\")`, while she used `toyplot.locator.Heckbert(count=7)` to specify the axis tick marks."
   ]
  },
  {
   "cell_type": "markdown",
   "metadata": {},
   "source": [
    "#### Problem 4\n",
    "Yes, Juliazeh bined the data into 15 bins and she applied colomap map to the bars. Given the distribution, a linear map is more appropriate."
   ]
  },
  {
   "cell_type": "markdown",
   "metadata": {},
   "source": [
    "#### Problem 5\n",
    "The left histogram is more informative about the distribution of the data. Juliazeh used `canvas.cartesian(bounds=(30, 135, 15, 135))` to specify the location of subplot, while I used `canvas.cartesian(grid=(1, 2, 0))`."
   ]
  }
 ],
 "metadata": {
  "kernelspec": {
   "display_name": "Python 3",
   "language": "python",
   "name": "python3"
  },
  "language_info": {
   "codemirror_mode": {
    "name": "ipython",
    "version": 3
   },
   "file_extension": ".py",
   "mimetype": "text/x-python",
   "name": "python",
   "nbconvert_exporter": "python",
   "pygments_lexer": "ipython3",
   "version": "3.6.3"
  }
 },
 "nbformat": 4,
 "nbformat_minor": 2
}
