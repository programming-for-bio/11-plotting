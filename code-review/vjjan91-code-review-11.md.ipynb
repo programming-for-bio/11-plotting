{
 "cells": [
  {
   "cell_type": "markdown",
   "metadata": {},
   "source": [
    "### Code-review of nehasavant's notebook"
   ]
  },
  {
   "cell_type": "markdown",
   "metadata": {},
   "source": [
    "1. Yes, using the y-position to represent the size of markers is an interesting to represent information. It could be misleading at times when the y-position also refers to data for a particular variable. The author's code carried out the execution of the scatterplot just the way I have done so.   \n",
    "\n",
    "2. Four values that I would like to see in a scatterplot are the size of the markers (as shown in the legend. For instance, do varying sizes refer to the magnitude of the datasets themselves?), the color (which could be a gradient or categorical sets of colors based on the information that one is trying to convey) and the x and y coordinates, which represent the information for the predictors that one is trying to plot. \n",
    "\n",
    "3. Yes, my peer added tick-marks as required. They used a different method which employed the use of the`locator.Integer` function.\n",
    "\n",
    "4. Yes, my peer binned the bar plot into 15 bins and they applied a colormap. A linear map would be more appropriate\n",
    "\n",
    "5. The barplot on the left is more informative than the scatterplot on the right. My peer used the same method as I did. "
   ]
  }
 ],
 "metadata": {
  "kernelspec": {
   "display_name": "Python 3",
   "language": "python",
   "name": "python3"
  },
  "language_info": {
   "codemirror_mode": {
    "name": "ipython",
    "version": 3
   },
   "file_extension": ".py",
   "mimetype": "text/x-python",
   "name": "python",
   "nbconvert_exporter": "python",
   "pygments_lexer": "ipython3",
   "version": "3.6.3"
  }
 },
 "nbformat": 4,
 "nbformat_minor": 2
}
