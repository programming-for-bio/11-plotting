{
 "cells": [
  {
   "cell_type": "markdown",
   "metadata": {},
   "source": [
    "# nehasavant's Code Review of lucasrocmoreira\n",
    "## Sunday, April 15, 2019"
   ]
  },
  {
   "cell_type": "markdown",
   "metadata": {},
   "source": [
    "**[Problem 1]. Combining scatterplot coordinates with further styling of the markers using size or color variation can provide additional information about the points. In this plot, the y position should correspond with the size of markers. Do you think this is a useful way to emphasize information in a plot? Could it possibly be misinterpreted or misleading in some way? Did your peer create plot as instructed, and did they use the same method as you?**"
   ]
  },
  {
   "cell_type": "markdown",
   "metadata": {},
   "source": [
    "I don't this it is a particularly useful way to understand the data in the plot. It doesn't really add anymore information that isn't already in the plot (i.e. value of y) and I find it somewhat distracting. Lucas used the same method as I (i.e. setting size=y), except that I forgot to define x and y before running the scatterplot() function. "
   ]
  },
  {
   "cell_type": "markdown",
   "metadata": {},
   "source": [
    "**[Problem 2]. Here points are also colored using a colormap mapping to the x value of the points, and the size is random. There is not likely to be a good reason to make the size of points random in a real plot, but it does make for an interesting looking figure here. Think of and describe an example scatterplot in which there are 4 values you wish to represent, and you would use size, color, and x, and y coordinates to display information about all four.**"
   ]
  },
  {
   "cell_type": "markdown",
   "metadata": {},
   "source": [
    "A set of data with four values could be one describing a group of salamanders: x could be the body size (snout-vent-length, SVL) of a salamander, y could be the tail length of the salamander, the color could indicate if the salamader had a normal, cut or regrown tail and the size of the point could indicate the distance the salamander was found from a water source. In the scatterplot, the xy plot would describe the relationship between SVL and tail length while the the size and color could show some potential related trends (i.e. if larger bodied salamanders are more likely to be farther from water or if they're more likely to have regrown tails). "
   ]
  },
  {
   "cell_type": "markdown",
   "metadata": {},
   "source": [
    "**[Problem 3]. Modifying the placement of tick marks and axes labels is often a difficult task, and is done a bit differently in every plotting library. It is important that ticks marks are spaced out and made to an appropriate size to be readable. Did your peer add tick marks as described? Did they use a different method than you did?**"
   ]
  },
  {
   "cell_type": "markdown",
   "metadata": {},
   "source": [
    "Lucas put evenly spaced numbers on the x-axis, but the numbers were decimals instead of integers and he did not add tick marks. He did use the same method (`toyplot.locator.____ `) but I used used `toyplot.locator.Integer()` while Locuas used `toyplot.locator.Uniform()`. "
   ]
  },
  {
   "cell_type": "markdown",
   "metadata": {},
   "source": [
    "**[Problem 4]. Barplots are used to show a distribution of binned data points. The default styling of barplots is often used, but modifying the size of bins, their color, or the spacing between them can often make for a much nicer looking plot. Did your peer bin the data into 15 bins? Did they apply a colormap to the bars? Given this distribution, which type of colormap do you think would be most appropriate, i.e., a linear map, a diverging map?**"
   ]
  },
  {
   "cell_type": "markdown",
   "metadata": {},
   "source": [
    "Yes, Lucas binned the data into 15 bins. And he applied the `Spectral` colormap to the bars. Given this distribution, I think a diverging color map, a map that has two different bold colors located towards the end of the map and lighter hues closer to the mean of the data, would be most appropriate since the colors of approximately equal boldness would represent values that have similar frequencies in this dataset. A linear map wouldn't give us much more information other than what the x-axis already tells us. "
   ]
  },
  {
   "cell_type": "markdown",
   "metadata": {},
   "source": [
    "**[Problem 5]. Creating plot layouts that combine multiple plots onto a single canvas is an important skill to learn to begin to make complex plots that display a lot of information. This plot should show a histogram on the left, and a corresponding scatterplot on the right. The density of points should match up between the two. Which of the two plots do you think is more informative about the distribution of the data? Did your peer use a different method than you did, and how do they differ?**"
   ]
  },
  {
   "cell_type": "markdown",
   "metadata": {},
   "source": [
    "I think the histogram on the left is more informative than the scatterplot in regard to the distribution of the data. The scatterplot give us a general and pretty-looking picture of what is happening while the the histogram does the same but also quantifies the distribution for us. \n",
    "\n",
    "Lucas used split up the plots using bound percerntages, while I used a grid system. We both used `toyplot.bars(along=\"y\")`, but I think he specified that the colors of the bar should correspond to the y values? I'm not exactly sure what `y[0]` is referring to since he didn't specify a `y` variable.   \n"
   ]
  }
 ],
 "metadata": {
  "kernelspec": {
   "display_name": "Python 3",
   "language": "python",
   "name": "python3"
  },
  "language_info": {
   "codemirror_mode": {
    "name": "ipython",
    "version": 3
   },
   "file_extension": ".py",
   "mimetype": "text/x-python",
   "name": "python",
   "nbconvert_exporter": "python",
   "pygments_lexer": "ipython3",
   "version": "3.6.3"
  }
 },
 "nbformat": 4,
 "nbformat_minor": 2
}
