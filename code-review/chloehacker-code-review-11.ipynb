{
 "cells": [
  {
   "cell_type": "markdown",
   "metadata": {},
   "source": [
    "### Code Review 4/16\n",
    "Chloe Hacker\n",
    "\n",
    "Review of lucasrocmoreira's code.\n",
    "\n",
    "\n",
    "**Problem 1** Combining scatterplot coordinates with further styling of the markers using size or color variation can provide additional information about the points. In this plot, the y position should correspond with the size of markers. Do you think this is a useful way to emphasize information in a plot? Could it possibly be misinterpreted or misleading in some way? Did your peer create plot as instructed, and did they use the same method as you?\n",
    "\n",
    "I think that the marker sixe is kind of deceptive, more so I guess it would depend on what information you are trying to display. If it has to do with literal size then I would say it could work but otherwise it just makes the graph look hard to read in my opinion. The plot looks good, and they used a similar method, except I am realzing now I forgot to change the marker size on my plot.\n",
    "\n",
    "**Problem 2** Here points are also colored using a colormap mapping to the x value of the points, and the size is random. There is not likely to be a good reason to make the size of points random in a real plot, but it does make for an interesting looking figure here. Think of and describe an example scatterplot in which there are 4 values you wish to represent, and you would use size, color, and x, and y coordinates to display information about all four.\n",
    "\n",
    "Four values I would display would be temperatures of objects (x axis) placed outside for a set amount of time, and the size of each object (y axis). The color would go from blue to red to show cool to hot, and size of marker would equate to size of object.\n",
    "\n",
    "**Problem 3** Modifying the placement of tick marks and axes labels is often a difficult task, and is done a bit differently in every plotting library. It is important that ticks marks are spaced out and made to an appropriate size to be readable. Did your peer add tick marks as described? Did they use a different method than you did?\n",
    "\n",
    "Yes they added as described, and no we did it differently, but their way makes sense because I have having trouble getting mine to show up. Setting a uniform count for ticks worked but I was trying to give each tick a specific number label, and was not successful.\n",
    "\n",
    "**Problem 4** Barplots are used to show a distribution of binned data points. The default styling of barplots is often used, but modifying the size of bins, their color, or the spacing between them can often make for a much nicer looking plot. Did your peer bin the data into 15 bins? Did they apply a colormap to the bars? Given this distribution, which type of colormap do you think would be most appropriate, i.e., a linear map, a diverging map?\n",
    "\n",
    "Yes. Yes. I think a divergent map could work, because the distribution was bell shaped and has a clear point of divergence.\n",
    "\n",
    "**Problem 5** Creating plot layouts that combine multiple plots onto a single canvas is an important skill to learn to begin to make complex plots that display a lot of information. This plot should show a histogram on the left, and a corresponding scatterplot on the right. The density of points should match up between the two. Which of the two plots do you think is more informative about the distribution of the data? Did your peer use a different method than you did, and how do they differ?\n",
    "\n",
    "I prefer the bar chart. It is easier to see the density of data for each y-axis value. Our methods were pretty similar, using slighty different syntax for each plot but they visually look the same."
   ]
  },
  {
   "cell_type": "code",
   "execution_count": null,
   "metadata": {},
   "outputs": [],
   "source": []
  }
 ],
 "metadata": {
  "kernelspec": {
   "display_name": "Python 3",
   "language": "python",
   "name": "python3"
  },
  "language_info": {
   "codemirror_mode": {
    "name": "ipython",
    "version": 3
   },
   "file_extension": ".py",
   "mimetype": "text/x-python",
   "name": "python",
   "nbconvert_exporter": "python",
   "pygments_lexer": "ipython3",
   "version": "3.6.3"
  }
 },
 "nbformat": 4,
 "nbformat_minor": 2
}
